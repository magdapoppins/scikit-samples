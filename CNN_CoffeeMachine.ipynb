{
 "cells": [
  {
   "cell_type": "markdown",
   "metadata": {},
   "source": [
    "# Convolutional Neural Networks - Out of Coffee Tutorial\n",
    "In July I got a request to make a quick machine learning demo for a course I was teaching. I had heard from my computer science student -friends that using ml to calculate if coffee was finished was a uni classic, so I thought I'd give it a try and plow through the basics myself. Here is the result:\n",
    "\n",
    "\n",
    "### Preparing the data\n",
    "I came to know that I would need at least 50-100 images of coffee pots to be able to teach my model something useful. The pictures should be 100x100px and black and white, as small as possible, but large enough to get the classifier to realize what's going on. \n",
    "After taking 100 pictures of coffee pots with my phone, I uploaded them to my computer and ran them through a modifier script that I had set to output the pixel tone values in a 2D-array of floats. My dataset was constructed like this:\n",
    "\n",
    "X = `coffeepot.data`  \n",
    "y = `coffeepot.target`  \n",
    "images = `coffeepot.images`  \n",
    "\n",
    "\n",
    "### Loading the dataset"
   ]
  },
  {
   "cell_type": "code",
   "execution_count": null,
   "metadata": {},
   "outputs": [],
   "source": [
    "#import coffeepot"
   ]
  }
 ],
 "metadata": {
  "kernelspec": {
   "display_name": "Python 3",
   "language": "python",
   "name": "python3"
  },
  "language_info": {
   "codemirror_mode": {
    "name": "ipython",
    "version": 3
   },
   "file_extension": ".py",
   "mimetype": "text/x-python",
   "name": "python",
   "nbconvert_exporter": "python",
   "pygments_lexer": "ipython3",
   "version": "3.6.5"
  }
 },
 "nbformat": 4,
 "nbformat_minor": 2
}
